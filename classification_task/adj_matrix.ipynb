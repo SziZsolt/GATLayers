{
 "cells": [
  {
   "cell_type": "code",
   "execution_count": 1,
   "metadata": {},
   "outputs": [],
   "source": [
    "import torch\n",
    "import torch.nn as nn\n",
    "from torch_geometric.datasets import TUDataset\n",
    "import networkx as nx\n",
    "import numpy as np\n",
    "import torch.optim as optim\n",
    "import random\n",
    "from sklearn.metrics import confusion_matrix\n",
    "import seaborn as sns\n",
    "import torch_geometric.transforms as T\n",
    "import matplotlib.pyplot as plt\n",
    "import sys\n",
    "sys.path.append('..')\n",
    "import binary_class\n",
    "import functions.adj_matrix_functions as adj\n",
    "import functions.overall_functions as overall_functions"
   ]
  },
  {
   "cell_type": "code",
   "execution_count": 2,
   "metadata": {},
   "outputs": [],
   "source": [
    "overall_functions.set_all_seeds(42)"
   ]
  },
  {
   "cell_type": "code",
   "execution_count": 3,
   "metadata": {},
   "outputs": [
    {
     "name": "stderr",
     "output_type": "stream",
     "text": [
      "c:\\Users\\szige\\AppData\\Local\\Programs\\Python\\Python311\\Lib\\site-packages\\torch_geometric\\data\\dataset.py:238: FutureWarning: You are using `torch.load` with `weights_only=False` (the current default value), which uses the default pickle module implicitly. It is possible to construct malicious pickle data which will execute arbitrary code during unpickling (See https://github.com/pytorch/pytorch/blob/main/SECURITY.md#untrusted-models for more details). In a future release, the default value for `weights_only` will be flipped to `True`. This limits the functions that could be executed during unpickling. Arbitrary objects will no longer be allowed to be loaded via this mode unless they are explicitly allowlisted by the user via `torch.serialization.add_safe_globals`. We recommend you start setting `weights_only=True` for any use case where you don't have full control of the loaded file. Please open an issue on GitHub for any issues related to this experimental feature.\n",
      "  if osp.exists(f) and torch.load(f) != _repr(self.pre_transform):\n",
      "c:\\Users\\szige\\AppData\\Local\\Programs\\Python\\Python311\\Lib\\site-packages\\torch_geometric\\data\\dataset.py:246: FutureWarning: You are using `torch.load` with `weights_only=False` (the current default value), which uses the default pickle module implicitly. It is possible to construct malicious pickle data which will execute arbitrary code during unpickling (See https://github.com/pytorch/pytorch/blob/main/SECURITY.md#untrusted-models for more details). In a future release, the default value for `weights_only` will be flipped to `True`. This limits the functions that could be executed during unpickling. Arbitrary objects will no longer be allowed to be loaded via this mode unless they are explicitly allowlisted by the user via `torch.serialization.add_safe_globals`. We recommend you start setting `weights_only=True` for any use case where you don't have full control of the loaded file. Please open an issue on GitHub for any issues related to this experimental feature.\n",
      "  if osp.exists(f) and torch.load(f) != _repr(self.pre_filter):\n",
      "c:\\Users\\szige\\AppData\\Local\\Programs\\Python\\Python311\\Lib\\site-packages\\torch_geometric\\io\\fs.py:215: FutureWarning: You are using `torch.load` with `weights_only=False` (the current default value), which uses the default pickle module implicitly. It is possible to construct malicious pickle data which will execute arbitrary code during unpickling (See https://github.com/pytorch/pytorch/blob/main/SECURITY.md#untrusted-models for more details). In a future release, the default value for `weights_only` will be flipped to `True`. This limits the functions that could be executed during unpickling. Arbitrary objects will no longer be allowed to be loaded via this mode unless they are explicitly allowlisted by the user via `torch.serialization.add_safe_globals`. We recommend you start setting `weights_only=True` for any use case where you don't have full control of the loaded file. Please open an issue on GitHub for any issues related to this experimental feature.\n",
      "  return torch.load(f, map_location)\n"
     ]
    },
    {
     "data": {
      "text/plain": [
       "PROTEINS(1113)"
      ]
     },
     "execution_count": 3,
     "metadata": {},
     "output_type": "execute_result"
    }
   ],
   "source": [
    "dataset = TUDataset('proteins', 'PROTEINS')\n",
    "dataset.transform = T.NormalizeFeatures()\n",
    "dataset"
   ]
  },
  {
   "cell_type": "code",
   "execution_count": 4,
   "metadata": {},
   "outputs": [
    {
     "data": {
      "text/plain": [
       "(1113, torch.Size([1113]), 1113)"
      ]
     },
     "execution_count": 4,
     "metadata": {},
     "output_type": "execute_result"
    }
   ],
   "source": [
    "X = [x.x for x in dataset]\n",
    "y = torch.cat([x.y for x in dataset]).to(torch.float)\n",
    "adj_matrices = [adj.create_adj_matrix(x.num_nodes, x.edge_index.T) for x in dataset]\n",
    "len(X), y.shape, len(adj_matrices)"
   ]
  },
  {
   "cell_type": "code",
   "execution_count": 5,
   "metadata": {},
   "outputs": [
    {
     "data": {
      "text/plain": [
       "(890, 111, 112)"
      ]
     },
     "execution_count": 5,
     "metadata": {},
     "output_type": "execute_result"
    }
   ],
   "source": [
    "train_indices, val_indices, test_indices = overall_functions.get_indices(len(dataset), 0.8, 0.1)\n",
    "len(train_indices), len(val_indices), len(test_indices)"
   ]
  },
  {
   "cell_type": "code",
   "execution_count": 6,
   "metadata": {},
   "outputs": [
    {
     "data": {
      "text/plain": [
       "(56, 56, 56, 56, 7, 7, 7, 7, 7, 7, 7, 7)"
      ]
     },
     "execution_count": 6,
     "metadata": {},
     "output_type": "execute_result"
    }
   ],
   "source": [
    "batch_size = 16\n",
    "X_train, y_train, adj_train, indices_train = adj.get_batched_data([X[i] for i in train_indices], y[train_indices], [adj_matrices[i] for i in train_indices], batch_size)\n",
    "X_val, y_val, adj_val, indices_val = adj.get_batched_data([X[i] for i in val_indices], y[val_indices], [adj_matrices[i] for i in val_indices], batch_size)\n",
    "X_test, y_test, adj_test, indices_test = adj.get_batched_data([X[i] for i in test_indices], y[test_indices], [adj_matrices[i] for i in test_indices], batch_size)\n",
    "\n",
    "len(X_train), len(y_train), len(adj_train), len(indices_train), len(X_val), len(y_val), len(adj_val), len(indices_val), len(X_test), len(y_test), len(adj_test), len(indices_test)"
   ]
  },
  {
   "cell_type": "code",
   "execution_count": 7,
   "metadata": {},
   "outputs": [
    {
     "data": {
      "text/plain": [
       "(torch.Size([714, 3]), torch.Size([714, 714]))"
      ]
     },
     "execution_count": 7,
     "metadata": {},
     "output_type": "execute_result"
    }
   ],
   "source": [
    "X_train[1].shape, adj_train[1].shape"
   ]
  },
  {
   "cell_type": "code",
   "execution_count": 8,
   "metadata": {},
   "outputs": [],
   "source": [
    "class GNN(nn.Module):\n",
    "    def __init__(self, in_features: int, out_features: int):\n",
    "        super(GNN, self).__init__()\n",
    "        self.pre_mlp = nn.Linear(in_features, 16)\n",
    "        self.layernorm1 = nn.LayerNorm(16)\n",
    "        self.layer1 = adj.GraphAttentionLayer(16, 32, 4, 0.2, 0.2)\n",
    "        self.layernorm2 = nn.LayerNorm(32)\n",
    "        self.layer2 = adj.GraphAttentionLayer(32, 32, 4, 0.2, 0.2)\n",
    "        self.layernorm3 = nn.LayerNorm(32)\n",
    "        self.linear = nn.Linear(32, out_features)\n",
    "        self.skip_connection = nn.Linear(16, 32)\n",
    "\n",
    "        \n",
    "    def forward(self, features: torch.Tensor, edge_index: torch.Tensor, indices:torch.Tensor):\n",
    "        features = self.pre_mlp(features)\n",
    "        features = self.layernorm1(features)\n",
    "        features = torch.relu(features)\n",
    "\n",
    "        features_skip = self.skip_connection(features)\n",
    "        features = self.layer1(features, edge_index)\n",
    "        features = self.layernorm2(features)\n",
    "        features = torch.relu(features + features_skip)\n",
    "\n",
    "        features_skip = features\n",
    "        features = self.layer2(features, edge_index)\n",
    "        features = self.layernorm3(features)\n",
    "        features = torch.relu(features + features_skip)\n",
    "\n",
    "        readout = self.pooling(features, indices)\n",
    "        readout = self.linear(readout)\n",
    "        return readout        \n",
    "\n",
    "    def pooling(self, features: torch.Tensor, indices: torch.Tensor):\n",
    "        graph_embedding = torch.zeros(indices.max().item() + 1, features.size(1))\n",
    "        graph_embedding = graph_embedding.index_add(0, indices, features)\n",
    "        count = torch.bincount(indices)\n",
    "        graph_embedding = graph_embedding / count.unsqueeze(1)\n",
    "        return graph_embedding"
   ]
  },
  {
   "cell_type": "code",
   "execution_count": 9,
   "metadata": {},
   "outputs": [],
   "source": [
    "in_features = X[0].shape[-1]\n",
    "hidden_features = 8\n",
    "out_features = 1\n",
    "model = GNN(in_features, out_features)"
   ]
  },
  {
   "cell_type": "code",
   "execution_count": 10,
   "metadata": {},
   "outputs": [
    {
     "name": "stdout",
     "output_type": "stream",
     "text": [
      "Epoch: 1 | Train Loss: 0.6706 | Val Loss: 0.6417 | Val acc: 0.6393\n",
      "Epoch: 2 | Train Loss: 0.6369 | Val Loss: 0.6323 | Val acc: 0.6577\n",
      "Epoch: 3 | Train Loss: 0.6245 | Val Loss: 0.6255 | Val acc: 0.6685\n",
      "Epoch: 4 | Train Loss: 0.6192 | Val Loss: 0.6079 | Val acc: 0.694\n",
      "Epoch: 5 | Train Loss: 0.6161 | Val Loss: 0.6044 | Val acc: 0.6851\n",
      "Epoch: 6 | Train Loss: 0.6116 | Val Loss: 0.5954 | Val acc: 0.6952\n",
      "Epoch: 7 | Train Loss: 0.6085 | Val Loss: 0.5968 | Val acc: 0.6857\n",
      "Epoch: 8 | Train Loss: 0.6071 | Val Loss: 0.6138 | Val acc: 0.6851\n",
      "Epoch: 9 | Train Loss: 0.6044 | Val Loss: 0.6039 | Val acc: 0.703\n",
      "Early stop\n"
     ]
    }
   ],
   "source": [
    "num_epochs = 10\n",
    "learning_rate = 0.01\n",
    "optimizer = optim.Adam(model.parameters(), lr=learning_rate)\n",
    "loss_fn = nn.BCEWithLogitsLoss()\n",
    "patience = 3\n",
    "\n",
    "binary_class.fit(model, num_epochs, patience, optimizer, loss_fn, X_train, adj_train, indices_train, y_train, X_val, adj_val, indices_val, y_val)"
   ]
  },
  {
   "cell_type": "code",
   "execution_count": 11,
   "metadata": {},
   "outputs": [],
   "source": [
    "test_logits, test_labels = binary_class.get_test(model, X_test, adj_test, indices_test, y_test)"
   ]
  },
  {
   "cell_type": "code",
   "execution_count": 12,
   "metadata": {},
   "outputs": [
    {
     "data": {
      "image/png": "[encoded data removed]",
      "text/plain": [
       "<Figure size 640x480 with 2 Axes>"
      ]
     },
     "metadata": {},
     "output_type": "display_data"
    }
   ],
   "source": [
    "sns.heatmap(confusion_matrix(test_labels, test_logits), annot=True, cmap='Blues')\n",
    "plt.show()"
   ]
  },
  {
   "cell_type": "code",
   "execution_count": 13,
   "metadata": {},
   "outputs": [
    {
     "data": {
      "text/plain": [
       "tensor(0.6964)"
      ]
     },
     "execution_count": 13,
     "metadata": {},
     "output_type": "execute_result"
    }
   ],
   "source": [
    "binary_class.accuracy_fn(test_logits, test_labels)"
   ]
  }
 ],
 "metadata": {
  "kernelspec": {
   "display_name": "Python 3",
   "language": "python",
   "name": "python3"
  },
  "language_info": {
   "codemirror_mode": {
    "name": "ipython",
    "version": 3
   },
   "file_extension": ".py",
   "mimetype": "text/x-python",
   "name": "python",
   "nbconvert_exporter": "python",
   "pygments_lexer": "ipython3",
   "version": "3.11.4"
  }
 },
 "nbformat": 4,
 "nbformat_minor": 2
}
