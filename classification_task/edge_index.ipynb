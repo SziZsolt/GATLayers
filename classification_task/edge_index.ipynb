{
 "cells": [
  {
   "cell_type": "code",
   "execution_count": 269,
   "metadata": {},
   "outputs": [],
   "source": [
    "import torch\n",
    "import torch.nn as nn\n",
    "from torch_geometric.datasets import QM7b, Planetoid, TUDataset\n",
    "from torch_geometric.utils import to_networkx\n",
    "import networkx as nx\n",
    "import numpy as np\n",
    "import torch.optim as optim\n",
    "from sklearn.model_selection import train_test_split\n",
    "import random\n",
    "from torch_geometric.nn import GAT, GATConv\n",
    "import torch.nn.functional as F\n",
    "from sklearn.metrics import confusion_matrix\n",
    "import seaborn as sns\n",
    "import torch.optim.lr_scheduler as lr_scheduler\n",
    "import torch_geometric.nn as tgnn\n",
    "import torch_geometric.transforms as T\n",
    "import matplotlib.pyplot as plt\n",
    "from torch_geometric.nn import MessagePassing\n",
    "from torch_geometric.utils import softmax\n",
    "import binary_class\n",
    "import sys\n",
    "sys.path.append('..')\n",
    "import functions.edge_index_functions as eif\n",
    "import functions.overall_functions as overall_functions"
   ]
  },
  {
   "cell_type": "code",
   "execution_count": 270,
   "metadata": {},
   "outputs": [],
   "source": [
    "overall_functions.set_all_seeds(42)"
   ]
  },
  {
   "cell_type": "code",
   "execution_count": 271,
   "metadata": {},
   "outputs": [
    {
     "name": "stderr",
     "output_type": "stream",
     "text": [
      "c:\\Users\\szige\\AppData\\Local\\Programs\\Python\\Python311\\Lib\\site-packages\\torch_geometric\\data\\dataset.py:238: FutureWarning: You are using `torch.load` with `weights_only=False` (the current default value), which uses the default pickle module implicitly. It is possible to construct malicious pickle data which will execute arbitrary code during unpickling (See https://github.com/pytorch/pytorch/blob/main/SECURITY.md#untrusted-models for more details). In a future release, the default value for `weights_only` will be flipped to `True`. This limits the functions that could be executed during unpickling. Arbitrary objects will no longer be allowed to be loaded via this mode unless they are explicitly allowlisted by the user via `torch.serialization.add_safe_globals`. We recommend you start setting `weights_only=True` for any use case where you don't have full control of the loaded file. Please open an issue on GitHub for any issues related to this experimental feature.\n",
      "  if osp.exists(f) and torch.load(f) != _repr(self.pre_transform):\n",
      "c:\\Users\\szige\\AppData\\Local\\Programs\\Python\\Python311\\Lib\\site-packages\\torch_geometric\\data\\dataset.py:246: FutureWarning: You are using `torch.load` with `weights_only=False` (the current default value), which uses the default pickle module implicitly. It is possible to construct malicious pickle data which will execute arbitrary code during unpickling (See https://github.com/pytorch/pytorch/blob/main/SECURITY.md#untrusted-models for more details). In a future release, the default value for `weights_only` will be flipped to `True`. This limits the functions that could be executed during unpickling. Arbitrary objects will no longer be allowed to be loaded via this mode unless they are explicitly allowlisted by the user via `torch.serialization.add_safe_globals`. We recommend you start setting `weights_only=True` for any use case where you don't have full control of the loaded file. Please open an issue on GitHub for any issues related to this experimental feature.\n",
      "  if osp.exists(f) and torch.load(f) != _repr(self.pre_filter):\n",
      "c:\\Users\\szige\\AppData\\Local\\Programs\\Python\\Python311\\Lib\\site-packages\\torch_geometric\\io\\fs.py:215: FutureWarning: You are using `torch.load` with `weights_only=False` (the current default value), which uses the default pickle module implicitly. It is possible to construct malicious pickle data which will execute arbitrary code during unpickling (See https://github.com/pytorch/pytorch/blob/main/SECURITY.md#untrusted-models for more details). In a future release, the default value for `weights_only` will be flipped to `True`. This limits the functions that could be executed during unpickling. Arbitrary objects will no longer be allowed to be loaded via this mode unless they are explicitly allowlisted by the user via `torch.serialization.add_safe_globals`. We recommend you start setting `weights_only=True` for any use case where you don't have full control of the loaded file. Please open an issue on GitHub for any issues related to this experimental feature.\n",
      "  return torch.load(f, map_location)\n"
     ]
    },
    {
     "data": {
      "text/plain": [
       "PROTEINS(1113)"
      ]
     },
     "execution_count": 271,
     "metadata": {},
     "output_type": "execute_result"
    }
   ],
   "source": [
    "dataset = TUDataset('proteins', 'PROTEINS')\n",
    "dataset.transform = T.NormalizeFeatures()\n",
    "dataset"
   ]
  },
  {
   "cell_type": "code",
   "execution_count": 272,
   "metadata": {},
   "outputs": [],
   "source": [
    "diameters = overall_functions.get_diameters(dataset)"
   ]
  },
  {
   "cell_type": "code",
   "execution_count": 273,
   "metadata": {},
   "outputs": [
    {
     "data": {
      "text/plain": [
       "tensor(64.)"
      ]
     },
     "execution_count": 273,
     "metadata": {},
     "output_type": "execute_result"
    }
   ],
   "source": [
    "torch.max(diameters)"
   ]
  },
  {
   "cell_type": "code",
   "execution_count": 274,
   "metadata": {},
   "outputs": [],
   "source": [
    "X = [x.x for x in dataset]\n",
    "y = torch.cat([x.y for x in dataset]).to(torch.float)\n",
    "edge_indices =[x.edge_index for x in dataset]"
   ]
  },
  {
   "cell_type": "code",
   "execution_count": 275,
   "metadata": {},
   "outputs": [],
   "source": [
    "class GNN(nn.Module):\n",
    "    def __init__(self, in_features: int, out_features: int):\n",
    "        super(GNN, self).__init__()\n",
    "        self.pre_mlp = nn.Linear(in_features, 8)\n",
    "        self.layernorm1 = nn.LayerNorm(8)\n",
    "        self.layer1 = eif.GraphAttentionLayer(8, 16, 5, 0.3, 0.2)\n",
    "        self.layernorm2 = nn.LayerNorm(16)\n",
    "        self.layer2 = eif.GraphAttentionLayer(16, 16, 5, 0.3, 0.2)\n",
    "        self.layernorm3 = nn.LayerNorm(16)\n",
    "        self.layer3 = eif.GraphAttentionLayer(16, 32, 5, 0.3, 0.2)\n",
    "        self.layernorm4 = nn.LayerNorm(32)\n",
    "        self.layer4 = eif.GraphAttentionLayer(32, 64, 5, 0.3, 0.2)\n",
    "        self.layernorm5 = nn.LayerNorm(64)\n",
    "        self.linear = nn.Linear(64, out_features)\n",
    "        self.skip_connection = nn.Linear(8, 16)\n",
    "        self.skip_connection2 = nn.Linear(16, 32)\n",
    "        self.skip_connection3 = nn.Linear(32, 64)\n",
    "\n",
    "        \n",
    "    def forward(self, features: torch.Tensor, edge_index: torch.Tensor, indices:torch.Tensor):\n",
    "        features = self.pre_mlp(features)\n",
    "        features = self.layernorm1(features)\n",
    "        features = torch.relu(features)\n",
    "\n",
    "        features_skip = self.skip_connection(features)\n",
    "        features = self.layer1(features, edge_index)\n",
    "        features = self.layernorm2(features)\n",
    "        features = torch.relu(features)\n",
    "\n",
    "        features_skip = features\n",
    "        features = self.layer2(features, edge_index)\n",
    "        features = self.layernorm3(features)\n",
    "        features = torch.relu(features + features_skip)\n",
    "\n",
    "        features_skip = self.skip_connection2(features)\n",
    "        features = self.layer3(features, edge_index)\n",
    "        features = self.layernorm4(features)\n",
    "        features = torch.relu(features + features_skip)\n",
    "\n",
    "        features_skip = self.skip_connection3(features)\n",
    "        features = self.layer4(features, edge_index)\n",
    "        features = self.layernorm5(features)\n",
    "        features = torch.relu(features + features_skip)\n",
    "\n",
    "        readout = self.pooling(features, indices)\n",
    "        readout = self.linear(readout)\n",
    "        return readout        \n",
    "\n",
    "    def pooling(self, features: torch.Tensor, indices: torch.Tensor):\n",
    "        graph_embedding = torch.zeros(indices.max().item() + 1, features.size(1))\n",
    "        graph_embedding = graph_embedding.index_add(0, indices, features)\n",
    "        count = torch.bincount(indices)\n",
    "        graph_embedding = graph_embedding / count.unsqueeze(1)\n",
    "        return graph_embedding"
   ]
  },
  {
   "cell_type": "code",
   "execution_count": 276,
   "metadata": {},
   "outputs": [
    {
     "data": {
      "text/plain": [
       "(890, 111, 112)"
      ]
     },
     "execution_count": 276,
     "metadata": {},
     "output_type": "execute_result"
    }
   ],
   "source": [
    "train_indices, val_indices, test_indices = overall_functions.get_indices(len(dataset), 0.8, 0.1)\n",
    "len(train_indices), len(val_indices), len(test_indices)"
   ]
  },
  {
   "cell_type": "code",
   "execution_count": 277,
   "metadata": {},
   "outputs": [
    {
     "data": {
      "text/plain": [
       "(28, 28, 28, 28, 4, 4, 4, 4, 4, 4, 4, 4)"
      ]
     },
     "execution_count": 277,
     "metadata": {},
     "output_type": "execute_result"
    }
   ],
   "source": [
    "batch_size = 32\n",
    "X_train, y_train, edge_train, indices_train = eif.get_batched_data([X[i] for i in train_indices], y[train_indices], [edge_indices[i] for i in train_indices], batch_size)\n",
    "X_val, y_val, edge_val, indices_val = eif.get_batched_data([X[i] for i in val_indices], y[val_indices], [edge_indices[i] for i in val_indices], batch_size)\n",
    "X_test, y_test, edge_test, indices_test = eif.get_batched_data([X[i] for i in test_indices], y[test_indices], [edge_indices[i] for i in test_indices], batch_size)\n",
    "\n",
    "len(X_train), len(y_train), len(edge_train), len(indices_train), len(X_val), len(y_val), len(edge_val), len(indices_val), len(X_test), len(y_test), len(edge_test), len(indices_test)"
   ]
  },
  {
   "cell_type": "code",
   "execution_count": 278,
   "metadata": {},
   "outputs": [],
   "source": [
    "def accuracy_fn(logits: torch.Tensor, labels:torch.Tensor):\n",
    "    logits = torch.round(torch.sigmoid(logits))\n",
    "    return torch.sum(logits == labels) / logits.shape[0]"
   ]
  },
  {
   "cell_type": "code",
   "execution_count": 279,
   "metadata": {},
   "outputs": [],
   "source": [
    "in_features = X[0].shape[-1]\n",
    "out_features = 1\n",
    "model = GNN(in_features, out_features)"
   ]
  },
  {
   "cell_type": "code",
   "execution_count": 280,
   "metadata": {},
   "outputs": [
    {
     "name": "stdout",
     "output_type": "stream",
     "text": [
      "Epoch: 1 | Train Loss: 0.6889 | Val Loss: 0.6788 | Val acc: 0.5531\n",
      "Epoch: 2 | Train Loss: 0.6608 | Val Loss: 0.6635 | Val acc: 0.5932\n",
      "Epoch: 3 | Train Loss: 0.6457 | Val Loss: 0.6441 | Val acc: 0.6255\n",
      "Epoch: 4 | Train Loss: 0.629 | Val Loss: 0.623 | Val acc: 0.7146\n",
      "Epoch: 5 | Train Loss: 0.615 | Val Loss: 0.6045 | Val acc: 0.7146\n",
      "Epoch: 6 | Train Loss: 0.6062 | Val Loss: 0.5915 | Val acc: 0.6979\n",
      "Epoch: 7 | Train Loss: 0.6029 | Val Loss: 0.5837 | Val acc: 0.7224\n",
      "Epoch: 8 | Train Loss: 0.5987 | Val Loss: 0.5786 | Val acc: 0.7146\n",
      "Epoch: 9 | Train Loss: 0.5962 | Val Loss: 0.5721 | Val acc: 0.7068\n",
      "Epoch: 10 | Train Loss: 0.5955 | Val Loss: 0.572 | Val acc: 0.7068\n",
      "Epoch: 11 | Train Loss: 0.5935 | Val Loss: 0.5734 | Val acc: 0.7068\n",
      "Epoch: 12 | Train Loss: 0.5924 | Val Loss: 0.5719 | Val acc: 0.7146\n",
      "Epoch: 13 | Train Loss: 0.5895 | Val Loss: 0.5705 | Val acc: 0.7146\n",
      "Epoch: 14 | Train Loss: 0.5874 | Val Loss: 0.5666 | Val acc: 0.7146\n",
      "Epoch: 15 | Train Loss: 0.5862 | Val Loss: 0.567 | Val acc: 0.7068\n",
      "Epoch: 16 | Train Loss: 0.5843 | Val Loss: 0.5679 | Val acc: 0.7146\n",
      "Epoch: 17 | Train Loss: 0.5855 | Val Loss: 0.5664 | Val acc: 0.7224\n",
      "Epoch: 18 | Train Loss: 0.5835 | Val Loss: 0.5665 | Val acc: 0.7224\n",
      "Epoch: 19 | Train Loss: 0.5842 | Val Loss: 0.5697 | Val acc: 0.7146\n",
      "Epoch: 20 | Train Loss: 0.5819 | Val Loss: 0.569 | Val acc: 0.7224\n",
      "Epoch: 21 | Train Loss: 0.5826 | Val Loss: 0.5692 | Val acc: 0.7224\n",
      "Epoch: 22 | Train Loss: 0.5759 | Val Loss: 0.5667 | Val acc: 0.7224\n",
      "Epoch: 23 | Train Loss: 0.5746 | Val Loss: 0.5722 | Val acc: 0.7224\n",
      "Epoch: 24 | Train Loss: 0.5738 | Val Loss: 0.5719 | Val acc: 0.7224\n",
      "Epoch: 25 | Train Loss: 0.5734 | Val Loss: 0.5684 | Val acc: 0.7146\n",
      "Epoch: 26 | Train Loss: 0.5726 | Val Loss: 0.5776 | Val acc: 0.7224\n",
      "Epoch: 27 | Train Loss: 0.5709 | Val Loss: 0.5774 | Val acc: 0.7224\n",
      "Epoch: 28 | Train Loss: 0.5668 | Val Loss: 0.5793 | Val acc: 0.7146\n",
      "Epoch: 29 | Train Loss: 0.5655 | Val Loss: 0.5771 | Val acc: 0.7146\n",
      "Epoch: 30 | Train Loss: 0.5699 | Val Loss: 0.5759 | Val acc: 0.7313\n",
      "Epoch: 31 | Train Loss: 0.5624 | Val Loss: 0.5841 | Val acc: 0.7146\n",
      "Epoch: 32 | Train Loss: 0.5599 | Val Loss: 0.586 | Val acc: 0.7234\n",
      "Epoch: 33 | Train Loss: 0.5636 | Val Loss: 0.5854 | Val acc: 0.7156\n",
      "Epoch: 34 | Train Loss: 0.5612 | Val Loss: 0.5806 | Val acc: 0.7313\n",
      "Early stop\n"
     ]
    }
   ],
   "source": [
    "num_epochs = 100\n",
    "learning_rate = 0.001\n",
    "optimizer = optim.Adam(model.parameters(), lr=learning_rate)\n",
    "loss_fn = nn.BCEWithLogitsLoss()\n",
    "best_state_dict = None\n",
    "best_loss = np.inf\n",
    "patience = 10\n",
    "patience_counter = 0\n",
    "\n",
    "\n",
    "binary_class.fit(model, num_epochs, patience, optimizer, loss_fn, X_train, edge_train, indices_train, y_train, X_val, edge_val, indices_val, y_val)"
   ]
  },
  {
   "cell_type": "code",
   "execution_count": 281,
   "metadata": {},
   "outputs": [
    {
     "data": {
      "text/plain": [
       "(torch.Size([112]), torch.Size([112]))"
      ]
     },
     "execution_count": 281,
     "metadata": {},
     "output_type": "execute_result"
    }
   ],
   "source": [
    "test_logits, test_labels = binary_class.get_test(model, X_test, edge_test, indices_test, y_test)\n",
    "\n",
    "test_logits.shape, test_labels.shape"
   ]
  },
  {
   "cell_type": "code",
   "execution_count": 282,
   "metadata": {},
   "outputs": [
    {
     "data": {
      "image/png": "[encoded data removed]",
      "text/plain": [
       "<Figure size 640x480 with 2 Axes>"
      ]
     },
     "metadata": {},
     "output_type": "display_data"
    }
   ],
   "source": [
    "sns.heatmap(confusion_matrix(test_labels, test_logits), annot=True, cmap='Blues')\n",
    "plt.show()"
   ]
  },
  {
   "cell_type": "code",
   "execution_count": 283,
   "metadata": {},
   "outputs": [
    {
     "data": {
      "text/plain": [
       "tensor(0.6786)"
      ]
     },
     "execution_count": 283,
     "metadata": {},
     "output_type": "execute_result"
    }
   ],
   "source": [
    "accuracy_fn(test_logits, test_labels)"
   ]
  }
 ],
 "metadata": {
  "kernelspec": {
   "display_name": "Python 3",
   "language": "python",
   "name": "python3"
  },
  "language_info": {
   "codemirror_mode": {
    "name": "ipython",
    "version": 3
   },
   "file_extension": ".py",
   "mimetype": "text/x-python",
   "name": "python",
   "nbconvert_exporter": "python",
   "pygments_lexer": "ipython3",
   "version": "3.11.4"
  }
 },
 "nbformat": 4,
 "nbformat_minor": 2
}
